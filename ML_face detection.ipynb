{
 "cells": [
  {
   "cell_type": "code",
   "execution_count": 7,
   "metadata": {},
   "outputs": [
    {
     "ename": "AttributeError",
     "evalue": "'str' object has no attribute 'jpg'",
     "output_type": "error",
     "traceback": [
      "\u001b[1;31m---------------------------------------------------------------------------\u001b[0m",
      "\u001b[1;31mAttributeError\u001b[0m                            Traceback (most recent call last)",
      "\u001b[1;32m<ipython-input-7-35f1409be112>\u001b[0m in \u001b[0;36m<module>\u001b[1;34m()\u001b[0m\n\u001b[0;32m      6\u001b[0m \u001b[1;33m\u001b[0m\u001b[0m\n\u001b[0;32m      7\u001b[0m \u001b[1;31m# Take the image file name from the command line\u001b[0m\u001b[1;33m\u001b[0m\u001b[1;33m\u001b[0m\u001b[0m\n\u001b[1;32m----> 8\u001b[1;33m \u001b[0mJM\u001b[0m\u001b[1;33m.\u001b[0m\u001b[0mjpg\u001b[0m \u001b[1;33m=\u001b[0m \u001b[0msys\u001b[0m\u001b[1;33m.\u001b[0m\u001b[0margv\u001b[0m\u001b[1;33m[\u001b[0m\u001b[1;36m1\u001b[0m\u001b[1;33m]\u001b[0m\u001b[1;33m\u001b[0m\u001b[0m\n\u001b[0m\u001b[0;32m      9\u001b[0m \u001b[1;33m\u001b[0m\u001b[0m\n\u001b[0;32m     10\u001b[0m \u001b[1;31m# Create a HOG face detector using the built-in dlib class\u001b[0m\u001b[1;33m\u001b[0m\u001b[1;33m\u001b[0m\u001b[0m\n",
      "\u001b[1;31mAttributeError\u001b[0m: 'str' object has no attribute 'jpg'"
     ]
    }
   ],
   "source": [
    "import sys\n",
    "import dlib\n",
    "from skimage import io\n",
    "\n",
    "#JM.jpg=\"http://localhost:8888/view/Documents/JM.jpg\"\n",
    "\n",
    "# Take the image file name from the command line\n",
    "JM.jpg = sys.argv[1]\n",
    "\n",
    "# Create a HOG face detector using the built-in dlib class\n",
    "face_detector = dlib.get_frontal_face_detector()\n",
    "\n",
    "win = dlib.image_window()\n",
    "\n",
    "# Load the image into an array\n",
    "image = io.imread(JM.jpg)\n",
    "\n",
    "# Run the HOG face detector on the image data.\n",
    "# The result will be the bounding boxes of the faces in our image.\n",
    "detected_faces = face_detector(image, 1)\n",
    "\n",
    "print(\"I found {} faces in the file {}\".format(len(detected_faces), file_name))\n",
    "\n",
    "# Open a window on the desktop showing the image\n",
    "win.set_image(image)\n",
    "\n",
    "# Loop through each face we found in the image\n",
    "for i, face_rect in enumerate(detected_faces):\n",
    "\n",
    "\t# Detected faces are returned as an object with the coordinates \n",
    "\t# of the top, left, right and bottom edges\n",
    "\tprint(\"- Face #{} found at Left: {} Top: {} Right: {} Bottom: {}\".format(i, face_rect.left(), face_rect.top(), face_rect.right(), face_rect.bottom()))\n",
    "\n",
    "\t# Draw a box around each face we found\n",
    "\twin.add_overlay(face_rect)\n",
    "\t        \n",
    "# Wait until the user hits <enter> to close the window\t        \n",
    "dlib.hit_enter_to_continue()"
   ]
  },
  {
   "cell_type": "code",
   "execution_count": null,
   "metadata": {},
   "outputs": [],
   "source": []
  }
 ],
 "metadata": {
  "kernelspec": {
   "display_name": "Python 3",
   "language": "python",
   "name": "python3"
  },
  "language_info": {
   "codemirror_mode": {
    "name": "ipython",
    "version": 3
   },
   "file_extension": ".py",
   "mimetype": "text/x-python",
   "name": "python",
   "nbconvert_exporter": "python",
   "pygments_lexer": "ipython3",
   "version": "3.6.6"
  }
 },
 "nbformat": 4,
 "nbformat_minor": 2
}
